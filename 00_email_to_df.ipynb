{
 "cells": [
  {
   "cell_type": "markdown",
   "metadata": {},
   "source": [
    "### Load emails from a milbox folder and dump the meta data and text body extracted to tabular format for processing."
   ]
  },
  {
   "cell_type": "code",
   "execution_count": 1,
   "metadata": {},
   "outputs": [],
   "source": [
    "import os\n",
    "import re\n",
    "import imaplib\n",
    "import email\n",
    "from datetime import datetime\n",
    "from dotenv import load_dotenv, find_dotenv\n",
    "\n",
    "from tqdm import tqdm\n",
    "import pandas as pd\n",
    "\n",
    "load_dotenv(find_dotenv())\n",
    "EMAIL = os.environ.get(\"EMAIL\")\n",
    "\n",
    "# email passwords can be used inplace of this but app\n",
    "# passwords provides more security as app passwords can be revoked easily\n",
    "APP_PASSWORD = os.environ.get(\"APP_PASSWORD\")"
   ]
  },
  {
   "cell_type": "code",
   "execution_count": 2,
   "metadata": {},
   "outputs": [],
   "source": [
    "def login_to_gmail(email: str, app_password: str) -> imaplib.IMAP4_SSL:\n",
    "    try:\n",
    "        mail = imaplib.IMAP4_SSL(\"imap.gmail.com\")\n",
    "        mail.login(email, app_password)\n",
    "        print(\"Login successful\")\n",
    "        return mail\n",
    "    except imaplib.IMAP4.error:\n",
    "        print(\"Login failed\")\n",
    "        return None\n",
    "\n",
    "\n",
    "def list_mailboxes(mail: imaplib.IMAP4_SSL) -> None:\n",
    "    print(\"List of Mailboxes:\")\n",
    "    status, mailbox_list = mail.list()\n",
    "    if status == \"OK\":\n",
    "        for mailbox in mailbox_list:\n",
    "            mbox_str = [\n",
    "                re.sub(r\"[\\\\\\(\\)]\", \"\", e.strip())\n",
    "                for e in mailbox.decode().split('\"/\"')\n",
    "            ]\n",
    "            print(f\"{mbox_str[1]}: {mbox_str[0]}\")\n",
    "\n",
    "\n",
    "def get_body_text(msg):\n",
    "    body_texts = []\n",
    "    # process multi-part message\n",
    "    if msg.is_multipart():\n",
    "        for part in msg.walk():\n",
    "            if \"attachment\" not in str(part.get(\"Content-Disposition\")):\n",
    "                body = part.get_payload(decode=True)\n",
    "                if body:\n",
    "                    try:\n",
    "                        body_texts.append(body.decode())\n",
    "                    except UnicodeDecodeError:\n",
    "                        continue\n",
    "    else:\n",
    "        # process message with single part\n",
    "        try:\n",
    "            body_texts.append(msg.get_payload(decode=True).decode())\n",
    "        except UnicodeDecodeError:\n",
    "            pass\n",
    "    return \"\\n\".join(body_texts)\n",
    "\n",
    "\n",
    "def mailbox_df(email_id_list, mail):\n",
    "    all_emails = []\n",
    "    for entry in tqdm(email_id_list):\n",
    "\n",
    "        status, msg_data = mail.fetch(entry, \"(RFC822)\")\n",
    "        if status == \"OK\":\n",
    "            msg = email.message_from_bytes(msg_data[0][1])\n",
    "            all_emails.append(\n",
    "                {\n",
    "                    \"subject\": msg.get(\"Subject\"),\n",
    "                    \"from\": msg.get(\"From\"),\n",
    "                    \"body\": get_body_text(msg),\n",
    "                    \"date\": msg.get(\"Date\"),\n",
    "                }\n",
    "            )\n",
    "    return pd.DataFrame(all_emails)"
   ]
  },
  {
   "cell_type": "code",
   "execution_count": 3,
   "metadata": {},
   "outputs": [
    {
     "name": "stdout",
     "output_type": "stream",
     "text": [
      "Login successful\n"
     ]
    }
   ],
   "source": [
    "mail = login_to_gmail(EMAIL, APP_PASSWORD)"
   ]
  },
  {
   "cell_type": "code",
   "execution_count": 6,
   "metadata": {},
   "outputs": [
    {
     "name": "stdout",
     "output_type": "stream",
     "text": [
      "List of Mailboxes:\n",
      "b'(\\\\HasNoChildren) \"/\" \"INBOX\"'\n",
      "b'(\\\\HasChildren \\\\Noselect) \"/\" \"Job\"'\n",
      "b'(\\\\HasChildren) \"/\" \"Job/Interviews\"'\n",
      "b'(\\\\HasNoChildren) \"/\" \"Job/Interviews/Interviews\"'\n",
      "b'(\\\\HasNoChildren) \"/\" \"Job/Interviews/tests\"'\n",
      "b'(\\\\HasNoChildren) \"/\" \"Mercor-Remotasks\"'\n",
      "b'(\\\\HasNoChildren) \"/\" \"Notes\"'\n",
      "b'(\\\\HasChildren) \"/\" \"Receipts\"'\n",
      "b'(\\\\HasNoChildren) \"/\" \"Receipts/ITR\"'\n",
      "b'(\\\\HasNoChildren) \"/\" \"Receipts/SIP\"'\n",
      "b'(\\\\HasNoChildren) \"/\" \"Receipts/travel\"'\n",
      "b'(\\\\HasChildren \\\\Noselect) \"/\" \"[Gmail]\"'\n",
      "b'(\\\\All \\\\HasNoChildren) \"/\" \"[Gmail]/All Mail\"'\n",
      "b'(\\\\HasNoChildren \\\\Trash) \"/\" \"[Gmail]/Bin\"'\n",
      "b'(\\\\Drafts \\\\HasNoChildren) \"/\" \"[Gmail]/Drafts\"'\n",
      "b'(\\\\HasNoChildren \\\\Important) \"/\" \"[Gmail]/Important\"'\n",
      "b'(\\\\HasNoChildren \\\\Sent) \"/\" \"[Gmail]/Sent Mail\"'\n",
      "b'(\\\\HasNoChildren \\\\Junk) \"/\" \"[Gmail]/Spam\"'\n",
      "b'(\\\\Flagged \\\\HasNoChildren) \"/\" \"[Gmail]/Starred\"'\n",
      "b'(\\\\HasChildren) \"/\" \"documents\"'\n",
      "b'(\\\\HasNoChildren) \"/\" \"documents/Project samples\"'\n",
      "b'(\\\\HasNoChildren) \"/\" \"documents/codvo.ai\"'\n",
      "b'(\\\\HasNoChildren) \"/\" \"documents/course5i\"'\n",
      "b'(\\\\HasNoChildren) \"/\" \"documents/newsbytes\"'\n",
      "b'(\\\\HasNoChildren) \"/\" \"documents/paisabazaar\"'\n",
      "b'(\\\\HasNoChildren) \"/\" \"documents/study-abroad\"'\n",
      "b'(\\\\HasNoChildren) \"/\" \"documents/tcs\"'\n",
      "b'(\\\\HasNoChildren) \"/\" \"eng-fluency\"'\n"
     ]
    }
   ],
   "source": [
    "list_mailboxes(mail)"
   ]
  },
  {
   "cell_type": "code",
   "execution_count": 11,
   "metadata": {},
   "outputs": [
    {
     "name": "stdout",
     "output_type": "stream",
     "text": [
      "documents/spam_samples Selected\n"
     ]
    }
   ],
   "source": [
    "# mailbox names don't support spaces in-between, need a workaround/feature for this\n",
    "\n",
    "mailbox = \"documents/spam_samples\"\n",
    "status, _ = mail.select(mailbox)\n",
    "if status == \"OK\":\n",
    "    print(f\"{mailbox} Selected\")\n",
    "else:\n",
    "    print(f\"Error Selecting {mailbox} \")"
   ]
  },
  {
   "cell_type": "code",
   "execution_count": 12,
   "metadata": {},
   "outputs": [],
   "source": [
    "status, email_ids = mail.search(None, \"ALL\")\n",
    "email_id_list = email_ids[0].split()"
   ]
  },
  {
   "cell_type": "code",
   "execution_count": 13,
   "metadata": {},
   "outputs": [
    {
     "name": "stderr",
     "output_type": "stream",
     "text": [
      "100%|██████████| 34/34 [00:18<00:00,  1.84it/s]\n"
     ]
    }
   ],
   "source": [
    "email_df = mailbox_df(email_id_list, mail)\n",
    "email_df[\"date\"] = email_df[\"date\"].apply(\n",
    "    lambda v: datetime.strptime(\n",
    "        re.sub(r\"\\([A-Z]+\\)\", \"\", v).strip(), \"%a, %d %b %Y %H:%M:%S %z\"\n",
    "    )\n",
    ")"
   ]
  },
  {
   "cell_type": "code",
   "execution_count": 14,
   "metadata": {},
   "outputs": [
    {
     "data": {
      "text/plain": [
       "('BYE', [b'LOGOUT Requested'])"
      ]
     },
     "execution_count": 14,
     "metadata": {},
     "output_type": "execute_result"
    }
   ],
   "source": [
    "# close and logout from email connection\n",
    "mail.close()\n",
    "mail.logout()"
   ]
  }
 ],
 "metadata": {
  "kernelspec": {
   "display_name": "gmail-automate",
   "language": "python",
   "name": "python3"
  },
  "language_info": {
   "codemirror_mode": {
    "name": "ipython",
    "version": 3
   },
   "file_extension": ".py",
   "mimetype": "text/x-python",
   "name": "python",
   "nbconvert_exporter": "python",
   "pygments_lexer": "ipython3",
   "version": "3.10.7"
  }
 },
 "nbformat": 4,
 "nbformat_minor": 2
}
